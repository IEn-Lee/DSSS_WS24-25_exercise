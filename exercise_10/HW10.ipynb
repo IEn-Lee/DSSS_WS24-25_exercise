{
 "cells": [
  {
   "cell_type": "code",
   "execution_count": 2,
   "metadata": {},
   "outputs": [],
   "source": [
    "#!pip install line_profiler\n",
    "%load_ext line_profiler"
   ]
  },
  {
   "cell_type": "code",
   "execution_count": 3,
   "metadata": {},
   "outputs": [],
   "source": [
    "import numpy as np\n",
    "from skimage import data, color\n",
    "from skimage.transform import resize\n",
    "from concurrent.futures import ThreadPoolExecutor"
   ]
  },
  {
   "cell_type": "code",
   "execution_count": 4,
   "metadata": {},
   "outputs": [],
   "source": [
    "imgs = np.uint8(data.lfw_subset()*255)\n",
    "\n",
    "def res_skimage(imgs):\n",
    "    new_size = (imgs[1].shape[0]//2, imgs[1].shape[1]//2)\n",
    "    res_im = []\n",
    "    for im in imgs:\n",
    "        image_resized = resize(im, new_size, anti_aliasing=True)\n",
    "        res_im.append(image_resized)\n",
    "    return np.asarray(res_im)\n"
   ]
  },
  {
   "cell_type": "code",
   "execution_count": 8,
   "metadata": {},
   "outputs": [
    {
     "name": "stdout",
     "output_type": "stream",
     "text": [
      "Timer unit: 1e-07 s\n",
      "\n",
      "Total time: 0.0405753 s\n",
      "File: C:\\Users\\USER\\AppData\\Local\\Temp\\ipykernel_1720\\634147576.py\n",
      "Function: res_skimage at line 3\n",
      "\n",
      "Line #      Hits         Time  Per Hit   % Time  Line Contents\n",
      "==============================================================\n",
      "     3                                           def res_skimage(imgs):\n",
      "     4         1         69.0     69.0      0.0      new_size = (imgs[1].shape[0]//2, imgs[1].shape[1]//2)\n",
      "     5         1          3.0      3.0      0.0      res_im = []\n",
      "     6       101        790.0      7.8      0.2      for im in imgs:\n",
      "     7       100     401396.0   4014.0     98.9          image_resized = resize(im, new_size, anti_aliasing=True)\n",
      "     8       100        741.0      7.4      0.2          res_im.append(image_resized)\n",
      "     9         1       2754.0   2754.0      0.7      return np.asarray(res_im)"
     ]
    }
   ],
   "source": [
    "# 測試資料\n",
    "imgs = np.random.randint(0, 255, (100, 64, 64), dtype=np.uint8)\n",
    "\n",
    "# 使用 %lprun 進行剖析\n",
    "%lprun -f res_skimage res_skimage(imgs)"
   ]
  },
  {
   "cell_type": "code",
   "execution_count": 9,
   "metadata": {},
   "outputs": [],
   "source": [
    "import numpy as np\n",
    "from skimage.transform import resize\n",
    "from concurrent.futures import ThreadPoolExecutor\n",
    "\n",
    "def res_skimage(imgs):\n",
    "    new_size = (imgs[1].shape[0] // 2, imgs[1].shape[1] // 2)\n",
    "    \n",
    "    def process_image(im):\n",
    "        return resize(im, new_size, anti_aliasing=True)\n",
    "\n",
    "    with ThreadPoolExecutor() as executor:\n",
    "        res_im = list(executor.map(process_image, imgs))\n",
    "\n",
    "    return np.asarray(res_im)\n"
   ]
  },
  {
   "cell_type": "code",
   "execution_count": 10,
   "metadata": {},
   "outputs": [
    {
     "name": "stdout",
     "output_type": "stream",
     "text": [
      "Timer unit: 1e-07 s\n",
      "\n",
      "Total time: 0.078305 s\n",
      "File: C:\\Users\\USER\\AppData\\Local\\Temp\\ipykernel_1720\\4173701576.py\n",
      "Function: res_skimage at line 5\n",
      "\n",
      "Line #      Hits         Time  Per Hit   % Time  Line Contents\n",
      "==============================================================\n",
      "     5                                           def res_skimage(imgs):\n",
      "     6                                               # 只計算一次 new_size\n",
      "     7         1        105.0    105.0      0.0      new_size = (imgs[1].shape[0] // 2, imgs[1].shape[1] // 2)\n",
      "     8                                               \n",
      "     9                                               # 使用多線程並行處理圖像\n",
      "    10         1          6.0      6.0      0.0      def process_image(im):\n",
      "    11                                                   return resize(im, new_size, anti_aliasing=True)\n",
      "    12                                           \n",
      "    13         1        548.0    548.0      0.1      with ThreadPoolExecutor() as executor:\n",
      "    14         1     778406.0 778406.0     99.4          res_im = list(executor.map(process_image, imgs))\n",
      "    15                                           \n",
      "    16         1       3985.0   3985.0      0.5      return np.asarray(res_im)"
     ]
    }
   ],
   "source": [
    "%lprun -f res_skimage res_skimage(imgs)"
   ]
  },
  {
   "cell_type": "code",
   "execution_count": null,
   "metadata": {},
   "outputs": [
    {
     "name": "stdout",
     "output_type": "stream",
     "text": [
      "Sequential execution time: 32.15 seconds\n"
     ]
    }
   ],
   "source": [
    "import multiprocessing as mp\n",
    "import time\n",
    "\n",
    "# 原始計算 Pi 的函數\n",
    "def approximate_pi(n):\n",
    "    pi_2 = 1\n",
    "    nom, den = 2.0, 1.0\n",
    "    for i in range(n):\n",
    "        pi_2 *= nom / den\n",
    "        if i % 2:\n",
    "            nom += 2\n",
    "        else:\n",
    "            den += 2\n",
    "    return 2 * pi_2\n",
    "\n",
    "# 測試數據\n",
    "nums = [1_822_725, 22_059_421, 32_374_695, 88_754_320, 97_162_66, 200_745_654]\n",
    "\n",
    "# 並行執行函數\n",
    "def parallel_execution(nums):\n",
    "    with mp.Pool(processes=4) as pool:\n",
    "        results = pool.map(approximate_pi, nums)\n",
    "    return results\n",
    "\n",
    "# 主函數\n",
    "def main():\n",
    "    # 順序執行\n",
    "    start = time.time()\n",
    "    sequential_results = [approximate_pi(n) for n in nums]\n",
    "    sequential_time = time.time() - start\n",
    "    print(f\"Sequential execution time: {sequential_time:.2f} seconds\")\n",
    "    \n",
    "    # 並行執行\n",
    "    start = time.time()\n",
    "    parallel_results = parallel_execution(nums)\n",
    "    parallel_time = time.time() - start\n",
    "    print(f\"Parallel execution time: {parallel_time:.2f} seconds\")\n",
    "    \n",
    "    # 效能提升\n",
    "    improvement = sequential_time / parallel_time\n",
    "    print(f\"Speedup: {improvement:.2f}x\")\n",
    "    \n",
    "    # 返回結果\n",
    "    return sequential_results, parallel_results, sequential_time, parallel_time, improvement\n",
    "\n",
    "# 在 Jupyter Notebook 中執行\n",
    "if __name__ == \"__main__\":\n",
    "    sequential_results, parallel_results, sequential_time, parallel_time, improvement = main()\n"
   ]
  },
  {
   "cell_type": "code",
   "execution_count": null,
   "metadata": {},
   "outputs": [],
   "source": [
    "from numba import jit\n",
    "import time\n",
    "\n",
    "@jit(nopython=True)\n",
    "def approximate_pi_optimized(n):\n",
    "    pi_2 = 1\n",
    "    nom, den = 2.0, 1.0\n",
    "    for i in range(n):\n",
    "        pi_2 *= nom / den\n",
    "        if i % 2:\n",
    "            nom += 2\n",
    "        else:\n",
    "            den += 2\n",
    "    return 2 * pi_2"
   ]
  }
 ],
 "metadata": {
  "kernelspec": {
   "display_name": "dsss",
   "language": "python",
   "name": "python3"
  },
  "language_info": {
   "codemirror_mode": {
    "name": "ipython",
    "version": 3
   },
   "file_extension": ".py",
   "mimetype": "text/x-python",
   "name": "python",
   "nbconvert_exporter": "python",
   "pygments_lexer": "ipython3",
   "version": "3.9.18"
  }
 },
 "nbformat": 4,
 "nbformat_minor": 2
}
